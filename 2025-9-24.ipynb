{
 "cells": [
  {
   "cell_type": "markdown",
   "id": "8e20fbe1",
   "metadata": {},
   "source": [
    "# 第一天\n",
    "这是在github记录自己每天的想法的第一天，今天先做测试，以后熟练了再多写些内容。\n",
    "![这是第一天的图](https://i.pximg.net/img-master/img/2025/09/14/00/00/13/135063232_p0_master1200.jpg)"
   ]
  }
 ],
 "metadata": {
  "language_info": {
   "name": "python"
  }
 },
 "nbformat": 4,
 "nbformat_minor": 5
}
